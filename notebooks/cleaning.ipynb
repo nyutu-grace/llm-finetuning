{
 "cells": [
  {
   "cell_type": "code",
   "execution_count": 5,
   "metadata": {},
   "outputs": [
    {
     "name": "stderr",
     "output_type": "stream",
     "text": [
      "[nltk_data] Downloading package words to /home/grace-\n",
      "[nltk_data]     nyutu/nltk_data...\n",
      "[nltk_data]   Unzipping corpora/words.zip.\n"
     ]
    },
    {
     "name": "stdout",
     "output_type": "stream",
     "text": [
      "Cleaned data saved to ../data/cleaned_data.csv\n"
     ]
    }
   ],
   "source": [
    "import pandas as pd\n",
    "import nltk\n",
    "from langdetect import detect, DetectorFactory\n",
    "from nltk.corpus import words\n",
    "\n",
    "# Ensure consistent results from langdetect\n",
    "DetectorFactory.seed = 0\n",
    "\n",
    "# Download NLTK English words corpus if not already downloaded\n",
    "nltk.download('words')\n",
    "\n",
    "# Set of English words\n",
    "english_words = set(words.words())\n",
    "\n",
    "def remove_english_words(text):\n",
    "    # Tokenize the text into words\n",
    "    tokens = text.split()\n",
    "    \n",
    "    # Filter out English words\n",
    "    cleaned_tokens = [word for word in tokens if word.lower() not in english_words]\n",
    "    \n",
    "    # Reconstruct the cleaned sentence\n",
    "    return ' '.join(cleaned_tokens)\n",
    "\n",
    "def clean_amharic_data(input_csv, output_csv):\n",
    "    # Read the CSV file\n",
    "    df = pd.read_csv(input_csv, header=None, names=['text'])\n",
    "    \n",
    "    # Apply the function to remove English words\n",
    "    df['text'] = df['text'].apply(remove_english_words)\n",
    "    \n",
    "    # Save the cleaned DataFrame to a new CSV file\n",
    "    df.to_csv(output_csv, index=False, header=False)\n",
    "    print(f\"Cleaned data saved to {output_csv}\")\n",
    "\n",
    "# Specify the input and output file paths\n",
    "input_csv = '../data/Amharic News Dataset.csv'\n",
    "output_csv = '../data/cleaned_data.csv'\n",
    "\n",
    "# Run the cleaning function\n",
    "clean_amharic_data(input_csv, output_csv)\n"
   ]
  },
  {
   "cell_type": "code",
   "execution_count": null,
   "metadata": {},
   "outputs": [],
   "source": []
  }
 ],
 "metadata": {
  "kernelspec": {
   "display_name": "venv",
   "language": "python",
   "name": "python3"
  },
  "language_info": {
   "codemirror_mode": {
    "name": "ipython",
    "version": 3
   },
   "file_extension": ".py",
   "mimetype": "text/x-python",
   "name": "python",
   "nbconvert_exporter": "python",
   "pygments_lexer": "ipython3",
   "version": "3.12.3"
  }
 },
 "nbformat": 4,
 "nbformat_minor": 2
}
